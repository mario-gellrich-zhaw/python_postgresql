{
 "cells": [
  {
   "cell_type": "markdown",
   "id": "61847f62",
   "metadata": {},
   "source": [
    "# Jupyter with PostgreSQL"
   ]
  },
  {
   "cell_type": "markdown",
   "id": "9b8df3dd",
   "metadata": {},
   "source": [
    "## Libararies and Settings"
   ]
  },
  {
   "cell_type": "code",
   "execution_count": 1,
   "id": "b027d889",
   "metadata": {},
   "outputs": [
    {
     "name": "stdout",
     "output_type": "stream",
     "text": [
      "/\n"
     ]
    }
   ],
   "source": [
    "# Libraries\n",
    "import os\n",
    "import psycopg2\n",
    "import pandas as pd\n",
    "from sqlalchemy import create_engine\n",
    "import matplotlib.pyplot as plt\n",
    "\n",
    "# Settings\n",
    "import warnings\n",
    "warnings.filterwarnings(\"ignore\")\n",
    "\n",
    "# Current working directory\n",
    "print(os.getcwd())"
   ]
  },
  {
   "cell_type": "markdown",
   "id": "ddc2ee8d",
   "metadata": {},
   "source": [
    "## Create database connection"
   ]
  },
  {
   "cell_type": "code",
   "execution_count": 2,
   "id": "54a73766-07de-4d4a-941c-fdc2616c92ff",
   "metadata": {},
   "outputs": [],
   "source": [
    "conn = psycopg2.connect(\"host=localhost dbname=app user=app_user password=app_password\")"
   ]
  },
  {
   "cell_type": "markdown",
   "id": "53f4b234",
   "metadata": {},
   "source": [
    "## Read data"
   ]
  },
  {
   "cell_type": "code",
   "execution_count": 3,
   "id": "ef32ffa2-1859-48af-a78c-0f1b5748fc98",
   "metadata": {},
   "outputs": [
    {
     "data": {
      "text/html": [
       "<div>\n",
       "<style scoped>\n",
       "    .dataframe tbody tr th:only-of-type {\n",
       "        vertical-align: middle;\n",
       "    }\n",
       "\n",
       "    .dataframe tbody tr th {\n",
       "        vertical-align: top;\n",
       "    }\n",
       "\n",
       "    .dataframe thead th {\n",
       "        text-align: right;\n",
       "    }\n",
       "</style>\n",
       "<table border=\"1\" class=\"dataframe\">\n",
       "  <thead>\n",
       "    <tr style=\"text-align: right;\">\n",
       "      <th></th>\n",
       "      <th>web-scraper-order</th>\n",
       "      <th>web-scraper-start-url</th>\n",
       "      <th>rooms_area_price_raw</th>\n",
       "      <th>address_raw</th>\n",
       "      <th>price_raw</th>\n",
       "      <th>description_raw</th>\n",
       "      <th>text_raw</th>\n",
       "      <th>rooms</th>\n",
       "      <th>area</th>\n",
       "      <th>price</th>\n",
       "    </tr>\n",
       "  </thead>\n",
       "  <tbody>\n",
       "    <tr>\n",
       "      <th>0</th>\n",
       "      <td>1662023695-433</td>\n",
       "      <td>https://www.immoscout24.ch/de/wohnung/mieten/k...</td>\n",
       "      <td>3,5 Zimmer, 122 m², CHF 3180.—</td>\n",
       "      <td>Sunnenbergstrasse 15, 8633 Wolfhausen, ZH</td>\n",
       "      <td>CHF 3180.—</td>\n",
       "      <td>«Grosse Galerie, Terrasse mit Pergola, Berg- u...</td>\n",
       "      <td>3,5 Zimmer, 122 m², CHF 3180.—Sunnenbergstrass...</td>\n",
       "      <td>3.5</td>\n",
       "      <td>122.0</td>\n",
       "      <td>3180.0</td>\n",
       "    </tr>\n",
       "    <tr>\n",
       "      <th>1</th>\n",
       "      <td>1662023745-820</td>\n",
       "      <td>https://www.immoscout24.ch/de/wohnung/mieten/k...</td>\n",
       "      <td>2,5 Zimmer, 78 m², CHF 3760.—</td>\n",
       "      <td>Lavaterstr. 63, 8002 Zürich, ZH</td>\n",
       "      <td>CHF 3760.—</td>\n",
       "      <td>«Wunderschöne Wohnung im Enge-Quartier»</td>\n",
       "      <td>2,5 Zimmer, 78 m², CHF 3760.—Lavaterstr. 63, 8...</td>\n",
       "      <td>2.5</td>\n",
       "      <td>78.0</td>\n",
       "      <td>3760.0</td>\n",
       "    </tr>\n",
       "    <tr>\n",
       "      <th>2</th>\n",
       "      <td>1662023742-807</td>\n",
       "      <td>https://www.immoscout24.ch/de/wohnung/mieten/k...</td>\n",
       "      <td>5,5 Zimmer, 115 m², CHF 2860.—</td>\n",
       "      <td>Langfurrenstrasse 5c, 8623 Wetzikon ZH, ZH</td>\n",
       "      <td>CHF 2860.—</td>\n",
       "      <td>«Wohnmomente zum Festhalten»</td>\n",
       "      <td>5,5 Zimmer, 115 m², CHF 2860.—Langfurrenstrass...</td>\n",
       "      <td>5.5</td>\n",
       "      <td>115.0</td>\n",
       "      <td>2860.0</td>\n",
       "    </tr>\n",
       "    <tr>\n",
       "      <th>3</th>\n",
       "      <td>1662023804-1290</td>\n",
       "      <td>https://www.immoscout24.ch/de/wohnung/mieten/k...</td>\n",
       "      <td>3,5 Zimmer, 74 m², CHF 2165.—</td>\n",
       "      <td>Sandbuckweg 5A, 8157 Dielsdorf, ZH</td>\n",
       "      <td>CHF 2165.—</td>\n",
       "      <td>«3,5 pièces, 74 m²»</td>\n",
       "      <td>top3,5 Zimmer, 74 m², CHF 2165.—Sandbuckweg 5A...</td>\n",
       "      <td>3.5</td>\n",
       "      <td>74.0</td>\n",
       "      <td>2165.0</td>\n",
       "    </tr>\n",
       "    <tr>\n",
       "      <th>4</th>\n",
       "      <td>1662023739-771</td>\n",
       "      <td>https://www.immoscout24.ch/de/wohnung/mieten/k...</td>\n",
       "      <td>5,5 Zimmer, 195 m², CHF 6900.—</td>\n",
       "      <td>Parkring 59, 8002 Zürich, ZH</td>\n",
       "      <td>CHF 6900.—</td>\n",
       "      <td>«Wohnanlage Im Parkring - Exklusive Wohnung zu...</td>\n",
       "      <td>5,5 Zimmer, 195 m², CHF 6900.—Parkring 59, 800...</td>\n",
       "      <td>5.5</td>\n",
       "      <td>195.0</td>\n",
       "      <td>6900.0</td>\n",
       "    </tr>\n",
       "  </tbody>\n",
       "</table>\n",
       "</div>"
      ],
      "text/plain": [
       "  web-scraper-order                              web-scraper-start-url  \\\n",
       "0    1662023695-433  https://www.immoscout24.ch/de/wohnung/mieten/k...   \n",
       "1    1662023745-820  https://www.immoscout24.ch/de/wohnung/mieten/k...   \n",
       "2    1662023742-807  https://www.immoscout24.ch/de/wohnung/mieten/k...   \n",
       "3   1662023804-1290  https://www.immoscout24.ch/de/wohnung/mieten/k...   \n",
       "4    1662023739-771  https://www.immoscout24.ch/de/wohnung/mieten/k...   \n",
       "\n",
       "             rooms_area_price_raw                                 address_raw  \\\n",
       "0  3,5 Zimmer, 122 m², CHF 3180.—   Sunnenbergstrasse 15, 8633 Wolfhausen, ZH   \n",
       "1   2,5 Zimmer, 78 m², CHF 3760.—             Lavaterstr. 63, 8002 Zürich, ZH   \n",
       "2  5,5 Zimmer, 115 m², CHF 2860.—  Langfurrenstrasse 5c, 8623 Wetzikon ZH, ZH   \n",
       "3   3,5 Zimmer, 74 m², CHF 2165.—          Sandbuckweg 5A, 8157 Dielsdorf, ZH   \n",
       "4  5,5 Zimmer, 195 m², CHF 6900.—                Parkring 59, 8002 Zürich, ZH   \n",
       "\n",
       "    price_raw                                    description_raw  \\\n",
       "0  CHF 3180.—  «Grosse Galerie, Terrasse mit Pergola, Berg- u...   \n",
       "1  CHF 3760.—            «Wunderschöne Wohnung im Enge-Quartier»   \n",
       "2  CHF 2860.—                       «Wohnmomente zum Festhalten»   \n",
       "3  CHF 2165.—                                «3,5 pièces, 74 m²»   \n",
       "4  CHF 6900.—  «Wohnanlage Im Parkring - Exklusive Wohnung zu...   \n",
       "\n",
       "                                            text_raw  rooms   area   price  \n",
       "0  3,5 Zimmer, 122 m², CHF 3180.—Sunnenbergstrass...    3.5  122.0  3180.0  \n",
       "1  2,5 Zimmer, 78 m², CHF 3760.—Lavaterstr. 63, 8...    2.5   78.0  3760.0  \n",
       "2  5,5 Zimmer, 115 m², CHF 2860.—Langfurrenstrass...    5.5  115.0  2860.0  \n",
       "3  top3,5 Zimmer, 74 m², CHF 2165.—Sandbuckweg 5A...    3.5   74.0  2165.0  \n",
       "4  5,5 Zimmer, 195 m², CHF 6900.—Parkring 59, 800...    5.5  195.0  6900.0  "
      ]
     },
     "execution_count": 3,
     "metadata": {},
     "output_type": "execute_result"
    }
   ],
   "source": [
    "df = pd.read_csv('/workspace/apartments_data_prepared.csv', sep=',')\n",
    "df.head(5)"
   ]
  },
  {
   "cell_type": "markdown",
   "id": "66164662",
   "metadata": {},
   "source": [
    "## Write data to database"
   ]
  },
  {
   "cell_type": "code",
   "execution_count": 4,
   "id": "cfd07b2d-1b23-4c93-b3f9-ccc3dcc73c31",
   "metadata": {},
   "outputs": [
    {
     "data": {
      "text/plain": [
       "8"
      ]
     },
     "execution_count": 4,
     "metadata": {},
     "output_type": "execute_result"
    }
   ],
   "source": [
    "engine = create_engine('postgresql://app_user:app_password@db:5432/postgres')\n",
    "df.to_sql('apartment_table', engine, if_exists='replace')"
   ]
  },
  {
   "cell_type": "markdown",
   "id": "2b80dc61",
   "metadata": {},
   "source": [
    "## Make SQL query"
   ]
  },
  {
   "cell_type": "code",
   "execution_count": 5,
   "id": "077a187d-05be-4c30-a367-a4e1a19d4466",
   "metadata": {},
   "outputs": [
    {
     "data": {
      "text/html": [
       "<div>\n",
       "<style scoped>\n",
       "    .dataframe tbody tr th:only-of-type {\n",
       "        vertical-align: middle;\n",
       "    }\n",
       "\n",
       "    .dataframe tbody tr th {\n",
       "        vertical-align: top;\n",
       "    }\n",
       "\n",
       "    .dataframe thead th {\n",
       "        text-align: right;\n",
       "    }\n",
       "</style>\n",
       "<table border=\"1\" class=\"dataframe\">\n",
       "  <thead>\n",
       "    <tr style=\"text-align: right;\">\n",
       "      <th></th>\n",
       "      <th>address_raw</th>\n",
       "      <th>rooms</th>\n",
       "      <th>area</th>\n",
       "      <th>price</th>\n",
       "    </tr>\n",
       "  </thead>\n",
       "  <tbody>\n",
       "    <tr>\n",
       "      <th>0</th>\n",
       "      <td>Sunnenbergstrasse 15, 8633 Wolfhausen, ZH</td>\n",
       "      <td>3.5</td>\n",
       "      <td>122.0</td>\n",
       "      <td>3180.0</td>\n",
       "    </tr>\n",
       "    <tr>\n",
       "      <th>1</th>\n",
       "      <td>Lavaterstr. 63, 8002 Zürich, ZH</td>\n",
       "      <td>2.5</td>\n",
       "      <td>78.0</td>\n",
       "      <td>3760.0</td>\n",
       "    </tr>\n",
       "    <tr>\n",
       "      <th>2</th>\n",
       "      <td>Langfurrenstrasse 5c, 8623 Wetzikon ZH, ZH</td>\n",
       "      <td>5.5</td>\n",
       "      <td>115.0</td>\n",
       "      <td>2860.0</td>\n",
       "    </tr>\n",
       "    <tr>\n",
       "      <th>3</th>\n",
       "      <td>Sandbuckweg 5A, 8157 Dielsdorf, ZH</td>\n",
       "      <td>3.5</td>\n",
       "      <td>74.0</td>\n",
       "      <td>2165.0</td>\n",
       "    </tr>\n",
       "    <tr>\n",
       "      <th>4</th>\n",
       "      <td>Parkring 59, 8002 Zürich, ZH</td>\n",
       "      <td>5.5</td>\n",
       "      <td>195.0</td>\n",
       "      <td>6900.0</td>\n",
       "    </tr>\n",
       "  </tbody>\n",
       "</table>\n",
       "</div>"
      ],
      "text/plain": [
       "                                  address_raw  rooms   area   price\n",
       "0   Sunnenbergstrasse 15, 8633 Wolfhausen, ZH    3.5  122.0  3180.0\n",
       "1             Lavaterstr. 63, 8002 Zürich, ZH    2.5   78.0  3760.0\n",
       "2  Langfurrenstrasse 5c, 8623 Wetzikon ZH, ZH    5.5  115.0  2860.0\n",
       "3          Sandbuckweg 5A, 8157 Dielsdorf, ZH    3.5   74.0  2165.0\n",
       "4                Parkring 59, 8002 Zürich, ZH    5.5  195.0  6900.0"
      ]
     },
     "execution_count": 5,
     "metadata": {},
     "output_type": "execute_result"
    }
   ],
   "source": [
    "df_sub = pd.read_sql_query('''SELECT\n",
    "                             address_raw,\n",
    "                             rooms,\n",
    "                             area,\n",
    "                             price\n",
    "                             FROM apartment_table''', \n",
    "                          con=engine)\n",
    "df_sub.head()"
   ]
  },
  {
   "cell_type": "markdown",
   "id": "5a828fd6-ebe9-431d-b0ab-0ee97e96cf53",
   "metadata": {},
   "source": [
    "## Plot apartment prices"
   ]
  },
  {
   "cell_type": "code",
   "execution_count": 6,
   "id": "e57b9583-89b5-4b58-b8a1-1349f21d086a",
   "metadata": {},
   "outputs": [
    {
     "data": {
      "image/png": "[encoded data removed]",
      "text/plain": [
       "<Figure size 700x400 with 1 Axes>"
      ]
     },
     "metadata": {},
     "output_type": "display_data"
    }
   ],
   "source": [
    "# Plot Histogram\n",
    "fig = plt.figure( figsize=(7,4))\n",
    "plt.xticks(fontsize=14, rotation=0)\n",
    "plt.yticks(fontsize=14, rotation=0)\n",
    "n, bins, patches = plt.hist(x=df['price'], \n",
    "                            bins=20, \n",
    "                            color='#5DADE2',\n",
    "                            alpha=1.00, \n",
    "                            rwidth=0.95\n",
    "                   )\n",
    "plt.grid(True)\n",
    "plt.ticklabel_format(style='plain')\n",
    "plt.grid(axis='y', alpha=0.75)\n",
    "\n",
    "# Set labels\n",
    "plt.xlabel('price', fontsize=10, labelpad=10)\n",
    "plt.ylabel('Frequency', fontsize=10, labelpad=10)\n",
    "plt.title('Histogram of apartment prices', fontsize=12, pad=10)\n",
    "\n",
    "# Set fontsize of tick labels\n",
    "plt.xticks(fontsize = 10)\n",
    "plt.yticks(fontsize = 10)\n",
    "\n",
    "plt.show()"
   ]
  },
  {
   "attachments": {},
   "cell_type": "markdown",
   "id": "ff525b1e",
   "metadata": {},
   "source": [
    "### Jupyter notebook --footer info-- (please always provide this at the end of each notebook)"
   ]
  },
  {
   "cell_type": "code",
   "execution_count": 7,
   "id": "e6cae5b2",
   "metadata": {},
   "outputs": [
    {
     "name": "stdout",
     "output_type": "stream",
     "text": [
      "-----------------------------------\n",
      "POSIX\n",
      "Linux | 6.2.0-1018-azure\n",
      "Datetime: 2024-01-15 14:57:18\n",
      "Python Version: 3.10.12\n",
      "-----------------------------------\n"
     ]
    }
   ],
   "source": [
    "import os\n",
    "import platform\n",
    "import socket\n",
    "from platform import python_version\n",
    "from datetime import datetime\n",
    "\n",
    "print('-----------------------------------')\n",
    "print(os.name.upper())\n",
    "print(platform.system(), '|', platform.release())\n",
    "print('Datetime:', datetime.now().strftime(\"%Y-%m-%d %H:%M:%S\"))\n",
    "print('Python Version:', python_version())\n",
    "print('-----------------------------------')"
   ]
  }
 ],
 "metadata": {
  "kernelspec": {
   "display_name": "Python 3",
   "language": "python",
   "name": "python3"
  },
  "language_info": {
   "codemirror_mode": {
    "name": "ipython",
    "version": 3
   },
   "file_extension": ".py",
   "mimetype": "text/x-python",
   "name": "python",
   "nbconvert_exporter": "python",
   "pygments_lexer": "ipython3",
   "version": "3.10.12"
  }
 },
 "nbformat": 4,
 "nbformat_minor": 5
}
