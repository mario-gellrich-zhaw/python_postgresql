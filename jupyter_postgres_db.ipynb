{
 "cells": [
  {
   "cell_type": "markdown",
   "id": "61847f62",
   "metadata": {},
   "source": [
    "# Jupyter with PostgreSQL"
   ]
  },
  {
   "cell_type": "markdown",
   "id": "9b8df3dd",
   "metadata": {},
   "source": [
    "## Libararies and Settings"
   ]
  },
  {
   "cell_type": "code",
   "execution_count": null,
   "id": "b027d889",
   "metadata": {},
   "outputs": [],
   "source": [
    "# Libraries\n",
    "import os\n",
    "import psycopg2\n",
    "import pandas as pd\n",
    "from sqlalchemy import create_engine\n",
    "import matplotlib.pyplot as plt\n",
    "\n",
    "# Settings\n",
    "import warnings\n",
    "warnings.filterwarnings(\"ignore\")\n",
    "\n",
    "# Current working directory\n",
    "print(os.getcwd())"
   ]
  },
  {
   "cell_type": "markdown",
   "id": "ddc2ee8d",
   "metadata": {},
   "source": [
    "## Create database connection"
   ]
  },
  {
   "cell_type": "code",
   "execution_count": null,
   "id": "54a73766-07de-4d4a-941c-fdc2616c92ff",
   "metadata": {},
   "outputs": [],
   "source": [
    "conn = psycopg2.connect(\"host=localhost dbname=app user=app_user password=app_password\")"
   ]
  },
  {
   "cell_type": "markdown",
   "id": "53f4b234",
   "metadata": {},
   "source": [
    "## Read data"
   ]
  },
  {
   "cell_type": "code",
   "execution_count": null,
   "id": "ef32ffa2-1859-48af-a78c-0f1b5748fc98",
   "metadata": {},
   "outputs": [],
   "source": [
    "df = pd.read_csv('/workspace/apartments_data_prepared.csv', sep=',')\n",
    "df.head(5)"
   ]
  },
  {
   "cell_type": "markdown",
   "id": "66164662",
   "metadata": {},
   "source": [
    "## Write data to database"
   ]
  },
  {
   "cell_type": "code",
   "execution_count": null,
   "id": "cfd07b2d-1b23-4c93-b3f9-ccc3dcc73c31",
   "metadata": {},
   "outputs": [],
   "source": [
    "engine = create_engine('postgresql://app_user:app_password@db:5432/postgres')\n",
    "df.to_sql('apartment_table', engine, if_exists='replace')"
   ]
  },
  {
   "cell_type": "markdown",
   "id": "2b80dc61",
   "metadata": {},
   "source": [
    "## Make SQL query"
   ]
  },
  {
   "cell_type": "code",
   "execution_count": null,
   "id": "077a187d-05be-4c30-a367-a4e1a19d4466",
   "metadata": {},
   "outputs": [],
   "source": [
    "df_sub = pd.read_sql_query('''SELECT\n",
    "                             address_raw,\n",
    "                             rooms,\n",
    "                             area,\n",
    "                             price\n",
    "                             FROM apartment_table''', \n",
    "                          con=engine)\n",
    "df_sub.head()"
   ]
  },
  {
   "cell_type": "markdown",
   "id": "5a828fd6-ebe9-431d-b0ab-0ee97e96cf53",
   "metadata": {},
   "source": [
    "## Plot apartment prices"
   ]
  },
  {
   "cell_type": "code",
   "execution_count": null,
   "id": "e57b9583-89b5-4b58-b8a1-1349f21d086a",
   "metadata": {},
   "outputs": [],
   "source": [
    "# Plot Histogram\n",
    "fig = plt.figure( figsize=(7,4))\n",
    "plt.xticks(fontsize=14, rotation=0)\n",
    "plt.yticks(fontsize=14, rotation=0)\n",
    "n, bins, patches = plt.hist(x=df['price'], \n",
    "                            bins=20, \n",
    "                            color='#5DADE2',\n",
    "                            alpha=1.00, \n",
    "                            rwidth=0.95\n",
    "                   )\n",
    "plt.grid(True)\n",
    "plt.ticklabel_format(style='plain')\n",
    "plt.grid(axis='y', alpha=0.75)\n",
    "\n",
    "# Set labels\n",
    "plt.xlabel('price', fontsize=10, labelpad=10)\n",
    "plt.ylabel('Frequency', fontsize=10, labelpad=10)\n",
    "plt.title('Histogram of apartment prices', fontsize=12, pad=10)\n",
    "\n",
    "# Set fontsize of tick labels\n",
    "plt.xticks(fontsize = 10)\n",
    "plt.yticks(fontsize = 10)\n",
    "\n",
    "plt.show()"
   ]
  },
  {
   "cell_type": "markdown",
   "id": "6b8aa83d",
   "metadata": {},
   "source": [
    "## Check whether the Postgis extention for PostgreSQL is installed"
   ]
  },
  {
   "cell_type": "code",
   "execution_count": null,
   "id": "79cac167",
   "metadata": {},
   "outputs": [],
   "source": [
    "# Function\n",
    "def check_postgis_installed():\n",
    "    # Database connection parameters\n",
    "    db_params = {\n",
    "        'dbname': 'app',\n",
    "        'user': 'app_user',\n",
    "        'password': 'app_password',\n",
    "        'host': 'localhost',\n",
    "        'port': 5432\n",
    "    }\n",
    "\n",
    "    try:\n",
    "        # Connect to the PostgreSQL database\n",
    "        conn = psycopg2.connect(**db_params)\n",
    "        cursor = conn.cursor()\n",
    "\n",
    "        # Query to check if PostGIS is installed\n",
    "        cursor.execute(\"SELECT postgis_full_version();\")\n",
    "        postgis_version = cursor.fetchone()\n",
    "\n",
    "        if postgis_version:\n",
    "            print(f\"PostGIS is installed: {postgis_version[0]}\")\n",
    "        else:\n",
    "            print(\"PostGIS is not installed.\")\n",
    "\n",
    "        # Close the cursor and connection\n",
    "        cursor.close()\n",
    "        conn.close()\n",
    "    except psycopg2.Error as e:\n",
    "        print(f\"An error occurred: {e}\")\n",
    "\n",
    "if __name__ == \"__main__\":\n",
    "    check_postgis_installed()\n"
   ]
  },
  {
   "cell_type": "markdown",
   "id": "5f609563",
   "metadata": {},
   "source": [
    "## Check whether osm2pgsql ist installed"
   ]
  },
  {
   "cell_type": "code",
   "execution_count": null,
   "id": "402f1ff8",
   "metadata": {},
   "outputs": [],
   "source": [
    "import subprocess\n",
    "\n",
    "def check_osm2pgsql():\n",
    "    try:\n",
    "        # Run the osm2pgsql version command\n",
    "        result = subprocess.run(['osm2pgsql', '--version'], capture_output=True, text=True)\n",
    "        \n",
    "        # Check if the command was successful\n",
    "        if result.returncode == 0:\n",
    "            print(\"osm2pgsql is installed and working correctly.\")\n",
    "            print(result.stdout)\n",
    "        else:\n",
    "            print(\"osm2pgsql is not working correctly.\")\n",
    "            print(result.stderr)\n",
    "    \n",
    "    except FileNotFoundError:\n",
    "        print(\"osm2pgsql is not installed.\")\n",
    "\n",
    "if __name__ == \"__main__\":\n",
    "    check_osm2pgsql()"
   ]
  },
  {
   "attachments": {},
   "cell_type": "markdown",
   "id": "ff525b1e",
   "metadata": {},
   "source": [
    "### Jupyter notebook --footer info-- (please always provide this at the end of each notebook)"
   ]
  },
  {
   "cell_type": "code",
   "execution_count": null,
   "id": "e6cae5b2",
   "metadata": {},
   "outputs": [],
   "source": [
    "import os\n",
    "import platform\n",
    "import socket\n",
    "from platform import python_version\n",
    "from datetime import datetime\n",
    "\n",
    "print('-----------------------------------')\n",
    "print(os.name.upper())\n",
    "print(platform.system(), '|', platform.release())\n",
    "print('Datetime:', datetime.now().strftime(\"%Y-%m-%d %H:%M:%S\"))\n",
    "print('Python Version:', python_version())\n",
    "print('-----------------------------------')"
   ]
  }
 ],
 "metadata": {
  "kernelspec": {
   "display_name": "Python 3",
   "language": "python",
   "name": "python3"
  },
  "language_info": {
   "codemirror_mode": {
    "name": "ipython",
    "version": 3
   },
   "file_extension": ".py",
   "mimetype": "text/x-python",
   "name": "python",
   "nbconvert_exporter": "python",
   "pygments_lexer": "ipython3",
   "version": "3.10.12"
  }
 },
 "nbformat": 4,
 "nbformat_minor": 5
}
